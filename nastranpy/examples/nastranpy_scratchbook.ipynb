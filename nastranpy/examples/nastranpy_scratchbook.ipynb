{
 "cells": [
  {
   "cell_type": "code",
   "execution_count": null,
   "metadata": {},
   "outputs": [],
   "source": [
    "%load_ext line_profiler\n",
    "%time import nastranpy"
   ]
  },
  {
   "cell_type": "markdown",
   "metadata": {},
   "source": [
    "Import model\n",
    "------------"
   ]
  },
  {
   "cell_type": "code",
   "execution_count": null,
   "metadata": {},
   "outputs": [],
   "source": [
    "model = nastranpy.Model()\n",
    "%time model.read(['/Users/Alvaro/Desktop/nastran_model_input/nastran_launcher.dat'])\n",
    "#%lprun -f nastranpy.bdf.cards.card.Card._process_fields model.read(['/Users/Alvaro/Desktop/nastran_model_input/nastran_launcher.dat'])\n",
    "\n",
    "model.path = '/Users/Alvaro/Desktop/nastran_model_output'"
   ]
  },
  {
   "cell_type": "markdown",
   "metadata": {},
   "source": [
    "## View log"
   ]
  },
  {
   "cell_type": "code",
   "execution_count": null,
   "metadata": {},
   "outputs": [],
   "source": [
    "%less $model.log_path"
   ]
  },
  {
   "cell_type": "markdown",
   "metadata": {},
   "source": [
    "## Export model"
   ]
  },
  {
   "cell_type": "code",
   "execution_count": null,
   "metadata": {},
   "outputs": [],
   "source": [
    "model.write([include for include in model.includes if include != 'nastran_launcher.dat'])\n",
    "#model.write()"
   ]
  },
  {
   "cell_type": "markdown",
   "metadata": {},
   "source": [
    "Get model info\n",
    "--------------"
   ]
  },
  {
   "cell_type": "code",
   "execution_count": null,
   "metadata": {
    "scrolled": true
   },
   "outputs": [],
   "source": [
    "model.info()"
   ]
  },
  {
   "cell_type": "markdown",
   "metadata": {},
   "source": [
    "Write a model summary to a csv file\n",
    "-----------------------------------"
   ]
  },
  {
   "cell_type": "code",
   "execution_count": null,
   "metadata": {},
   "outputs": [],
   "source": [
    "model.print_summary()"
   ]
  },
  {
   "cell_type": "markdown",
   "metadata": {},
   "source": [
    "Write card fields to a csv file\n",
    "-------------------------------"
   ]
  },
  {
   "cell_type": "code",
   "execution_count": null,
   "metadata": {},
   "outputs": [],
   "source": [
    "model.print_cards(model.cards('grid', includes=['BulkData/3C0734_Sp1_Hng_outbd_v04.bdf']))"
   ]
  },
  {
   "cell_type": "markdown",
   "metadata": {},
   "source": [
    "Get ID info for a given card type\n",
    "---------------------------------"
   ]
  },
  {
   "cell_type": "code",
   "execution_count": null,
   "metadata": {},
   "outputs": [],
   "source": [
    "print(model.get_id_info('mpc', detailed=False))\n",
    "print(model.get_id_slot('grid', 1000))"
   ]
  },
  {
   "cell_type": "markdown",
   "metadata": {},
   "source": [
    "Get shell geometrical info\n",
    "--------------------------"
   ]
  },
  {
   "cell_type": "code",
   "execution_count": null,
   "metadata": {},
   "outputs": [],
   "source": [
    "shells_info = {shell.id: (shell.area, shell.normal, shell.centroid) for\n",
    "               shell in model.cards('e2D')}"
   ]
  },
  {
   "cell_type": "markdown",
   "metadata": {},
   "source": [
    "Renumber cards: by correlation\n",
    "------------------------------"
   ]
  },
  {
   "cell_type": "code",
   "execution_count": null,
   "metadata": {
    "scrolled": false
   },
   "outputs": [],
   "source": [
    "correlation = {\n",
    "    235437: 4703436,\n",
    "    235438: 4703437,\n",
    "    235439: 4703438,\n",
    "    235440: 4703439,\n",
    "    235441: 4703440,\n",
    "    235442: 4703441,\n",
    "    235443: 4703442,\n",
    "    235444: 4703443,\n",
    "    235445: 4703444,\n",
    "    235446: 4703445,\n",
    "    235447: 4703446,\n",
    "    235448: 4703447,\n",
    "    235449: 4703448,\n",
    "    235450: 4703449,\n",
    "    235451: 4703450,\n",
    "    235452: 4703451,\n",
    "    235453: 4703452,\n",
    "    235454: 4703453,\n",
    "    235455: 4703454,\n",
    "    235456: 4703455,\n",
    "    235457: 4703456,\n",
    "    235458: 4703457,\n",
    "    235459: 4703458,\n",
    "    235460: 4703459,\n",
    "    235461: 4703460,\n",
    "    235462: 4703461,\n",
    "    235463: 4703462,\n",
    "    235464: 4703463,\n",
    "    235465: 4703464,\n",
    "}\n",
    "\n",
    "model.renumber('grid', correlation=correlation)\n",
    "model.write(['BulkData/3C0734_Sp1_Hng_outbd_v04.bdf'])"
   ]
  },
  {
   "cell_type": "markdown",
   "metadata": {},
   "source": [
    "Renumber cards: by start id and step\n",
    "------------------------------------"
   ]
  },
  {
   "cell_type": "code",
   "execution_count": null,
   "metadata": {},
   "outputs": [],
   "source": [
    "id_list = [\n",
    "    235472,\n",
    "    235473,\n",
    "    235474,\n",
    "    235475,\n",
    "    235476,\n",
    "    235477,\n",
    "    235478,\n",
    "    235479,\n",
    "    235480,\n",
    "    235481,\n",
    "    235482,\n",
    "    235483,\n",
    "    235484,\n",
    "    235485,\n",
    "    235486,\n",
    "    235487,\n",
    "    235488,\n",
    "    235489,\n",
    "    235490,\n",
    "]\n",
    "\n",
    "model.renumber('grid', model.cards('grid', id_list), start=4703465, step=5)\n",
    "model.write(['BulkData/3C0734_Sp1_Hng_outbd_v04.bdf'])"
   ]
  },
  {
   "cell_type": "markdown",
   "metadata": {},
   "source": [
    "Renumber cards: by an id pattern\n",
    "--------------------------------"
   ]
  },
  {
   "cell_type": "code",
   "execution_count": null,
   "metadata": {},
   "outputs": [],
   "source": [
    "id_list = [\n",
    "    235496,\n",
    "    235497,\n",
    "    235498,\n",
    "    235499,\n",
    "    235500,\n",
    "    235501,\n",
    "    235502,\n",
    "    235503,\n",
    "    235504,\n",
    "    235505,\n",
    "    235506,\n",
    "    235507,\n",
    "    235508,\n",
    "    235509,\n",
    "    235510,\n",
    "    235511,\n",
    "    235512,\n",
    "    235513,\n",
    "    235514,\n",
    "    235515,\n",
    "]\n",
    "\n",
    "model.renumber('grid', model.cards('grid', id_list), id_pattern=['9', '34', '*', '*', '*', '*', '1-8'])\n",
    "model.write(['BulkData/3C0734_Sp1_Hng_outbd_v04.bdf'])"
   ]
  },
  {
   "cell_type": "markdown",
   "metadata": {},
   "source": [
    "Get cards by different ways\n",
    "---------------------------"
   ]
  },
  {
   "cell_type": "code",
   "execution_count": null,
   "metadata": {},
   "outputs": [],
   "source": [
    "grid_ids = [grid.id for grid in model.cards('grid', ['*', '34', '*', '*', '*', '*', '1-8'])]\n",
    "print(len(grid_ids))\n",
    "cards = {card for card in model.cards('grid', grid_ids)}\n",
    "cards = {card for card in model.cards('e2D')}\n",
    "cards = {card for card in model.cards('grid')}\n",
    "cards = {card for card in model.cards(['PCOMP', 'PCOMPG'])}\n",
    "cards = {card for card in model.cards(includes=['BulkData/3C0734_Sp1_Hng_outbd_v04.bdf', 'BulkData/NEW_LP3.bdf'])}"
   ]
  },
  {
   "cell_type": "markdown",
   "metadata": {},
   "source": [
    "Extend element: by steps\n",
    "------------------------"
   ]
  },
  {
   "cell_type": "code",
   "execution_count": null,
   "metadata": {},
   "outputs": [],
   "source": [
    "# Extend from an element\n",
    "model.elems[3612829].extend(steps=2)\n",
    "# Extend from a grid\n",
    "model.grids[3815443].extend(steps=2)"
   ]
  },
  {
   "cell_type": "markdown",
   "metadata": {},
   "source": [
    "Extend element: by filter\n",
    "-------------------------"
   ]
  },
  {
   "cell_type": "code",
   "execution_count": null,
   "metadata": {},
   "outputs": [],
   "source": [
    "# Extend from an element\n",
    "model.elems[8048206].extend('e2D')\n",
    "# Extend from a grid\n",
    "model.grids[8020333].extend('e2D')"
   ]
  },
  {
   "cell_type": "markdown",
   "metadata": {},
   "source": [
    "Make include self-contained\n",
    "---------------------------"
   ]
  },
  {
   "cell_type": "code",
   "execution_count": null,
   "metadata": {},
   "outputs": [],
   "source": [
    "include = model.includes['BulkData/NEW_MFTE_IFEM_SECTION_V8.5.bdf']\n",
    "print('Include is self-contained: {}'.format(include.is_self_contained()))\n",
    "include.make_self_contained()\n",
    "print('Include is self-contained: {}'.format(include.is_self_contained()))\n",
    "model.write(['BulkData/NEW_MFTE_IFEM_SECTION_V8.5.bdf'])"
   ]
  },
  {
   "cell_type": "code",
   "execution_count": null,
   "metadata": {},
   "outputs": [],
   "source": [
    "include = model.includes['BulkData/NEW_MFTE_IFEM_SECTION_V8.5.bdf']\n",
    "print('Include is self-contained: {}'.format(include.is_self_contained()))"
   ]
  },
  {
   "cell_type": "code",
   "execution_count": null,
   "metadata": {},
   "outputs": [],
   "source": [
    "model.coords[3221001].include"
   ]
  },
  {
   "cell_type": "markdown",
   "metadata": {},
   "source": [
    "Move cards\n",
    "----------"
   ]
  },
  {
   "cell_type": "code",
   "execution_count": null,
   "metadata": {},
   "outputs": [],
   "source": [
    "print(len(list(model.includes['BulkData/NEW_LP3.bdf'].elems())))\n",
    "print(len(list(model.includes['BulkData/SMM3v2_S541700_Wing-Box_V16.2_08.bdf'].elems())))\n",
    "model.move(model.cards('elem', includes=['BulkData/NEW_LP3.bdf']), 'BulkData/SMM3v2_S541700_Wing-Box_V16.2_08.bdf',True)\n",
    "print(len(list(model.includes['BulkData/NEW_LP3.bdf'].elems())))\n",
    "print(len(list(model.includes['BulkData/SMM3v2_S541700_Wing-Box_V16.2_08.bdf'].elems())))"
   ]
  },
  {
   "cell_type": "markdown",
   "metadata": {},
   "source": [
    "## Delete unused cards"
   ]
  },
  {
   "cell_type": "code",
   "execution_count": null,
   "metadata": {},
   "outputs": [],
   "source": [
    "print(model.get_unused_cards('mat'))"
   ]
  },
  {
   "cell_type": "code",
   "execution_count": null,
   "metadata": {},
   "outputs": [],
   "source": [
    "resolved_cards = set()\n",
    "unresolved_cards = set(model.cards_by_type([Item.grid, Item.coord]))\n",
    "cards2resolve = set()\n",
    "for card in unresolved_cards:\n",
    "\n",
    "    if all((linked_card in resolved_cards for linked_card in card.cards())):\n",
    "        cards2resolve.add(card)"
   ]
  },
  {
   "cell_type": "code",
   "execution_count": null,
   "metadata": {},
   "outputs": [],
   "source": [
    "# card = model.coords[98000182]\n",
    "card = model.elems[16300164]\n",
    "# card = model.props[3311059]\n",
    "model.delete_card(card)\n",
    "print(card)\n",
    "print(list(card.dependent_cards()))"
   ]
  },
  {
   "cell_type": "markdown",
   "metadata": {},
   "source": [
    "# Get skin bay properties"
   ]
  },
  {
   "cell_type": "code",
   "execution_count": null,
   "metadata": {},
   "outputs": [],
   "source": [
    "bdf_files = [\n",
    "    '/Users/Alvaro/Desktop/skin_bays/ZA10_Fuselage_itera7_20180704.bdf'\n",
    "]\n",
    "EIDs_file = '/Users/Alvaro/Desktop/skin_bays/skin_EIDs.csv'\n",
    "output_file = '/Users/Alvaro/Desktop/skin_bays/skin_bay_geom.csv'\n",
    "\n",
    "nastranpy.utils.get_skin_bays_geom(bdf_files, EIDs_file, output_file)"
   ]
  }
 ],
 "metadata": {
  "anaconda-cloud": {},
  "kernelspec": {
   "display_name": "Python [default]",
   "language": "python",
   "name": "python3"
  },
  "language_info": {
   "codemirror_mode": {
    "name": "ipython",
    "version": 3
   },
   "file_extension": ".py",
   "mimetype": "text/x-python",
   "name": "python",
   "nbconvert_exporter": "python",
   "pygments_lexer": "ipython3",
   "version": "3.6.3"
  }
 },
 "nbformat": 4,
 "nbformat_minor": 2
}
